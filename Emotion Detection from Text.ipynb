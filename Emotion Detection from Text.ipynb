{
 "cells": [
  {
   "cell_type": "markdown",
   "metadata": {},
   "source": [
    "<center><h2><b><span style=\"color:orange\"> \n",
    "Emotion Detection from Text (3%)<br>\n",
    "By: Zubeka Dane Dang <br>\n",
    "</span><b></h2>"
   ]
  },
  {
   "cell_type": "markdown",
   "metadata": {},
   "source": [
    "<h3><b><span style=\"color:lightblue\">\n",
    " Part 1- Programming\n",
    " </span><b></h3>\n",
    " Download the dataset “Tweet Emotion Dataset.xlsx”. This corpus is provided for four emotions: joy, sadness, fear, and anger. \n",
    " The test data “test_dataset.xlsx” includes only the tweet text."
   ]
  },
  {
   "cell_type": "markdown",
   "metadata": {},
   "source": [
    "<p><b> <span style=\"color: orange\"> Step 1: Install and import relevant libraries</b></p>"
   ]
  },
  {
   "cell_type": "code",
   "execution_count": 42,
   "metadata": {},
   "outputs": [],
   "source": [
    "#This bit of code allows me to output more than one variable value without using a print statement.\n",
    "from IPython.core.interactiveshell import InteractiveShell\n",
    "InteractiveShell.ast_node_interactivity = \"all\""
   ]
  },
  {
   "cell_type": "code",
   "execution_count": 43,
   "metadata": {},
   "outputs": [
    {
     "name": "stderr",
     "output_type": "stream",
     "text": [
      "[nltk_data] Downloading package punkt to\n",
      "[nltk_data]     C:\\Users\\dpdca\\AppData\\Roaming\\nltk_data...\n",
      "[nltk_data]   Package punkt is already up-to-date!\n"
     ]
    },
    {
     "data": {
      "text/plain": [
       "True"
      ]
     },
     "execution_count": 43,
     "metadata": {},
     "output_type": "execute_result"
    },
    {
     "name": "stderr",
     "output_type": "stream",
     "text": [
      "[nltk_data] Downloading package wordnet to\n",
      "[nltk_data]     C:\\Users\\dpdca\\AppData\\Roaming\\nltk_data...\n",
      "[nltk_data]   Package wordnet is already up-to-date!\n"
     ]
    },
    {
     "data": {
      "text/plain": [
       "True"
      ]
     },
     "execution_count": 43,
     "metadata": {},
     "output_type": "execute_result"
    },
    {
     "name": "stderr",
     "output_type": "stream",
     "text": [
      "[nltk_data] Downloading package stopwords to\n",
      "[nltk_data]     C:\\Users\\dpdca\\AppData\\Roaming\\nltk_data...\n",
      "[nltk_data]   Package stopwords is already up-to-date!\n"
     ]
    },
    {
     "data": {
      "text/plain": [
       "True"
      ]
     },
     "execution_count": 43,
     "metadata": {},
     "output_type": "execute_result"
    }
   ],
   "source": [
    "# Install and import relevant libraries\n",
    "import warnings\n",
    "warnings.filterwarnings(\"ignore\") # avoid showing warning, comment out instead.\n",
    "\n",
    "import numpy as np\n",
    "import matplotlib.pyplot as plt\n",
    "import pandas as pd\n",
    "import nltk\n",
    "import seaborn as sns\n",
    "import re\n",
    "import os, types\n",
    "\n",
    "from nltk.stem import WordNetLemmatizer\n",
    "from nltk.stem import PorterStemmer\n",
    "from nltk.tokenize import word_tokenize\n",
    "from nltk.corpus import stopwords\n",
    "nltk.download(\"punkt\")\n",
    "nltk.download('wordnet')\n",
    "nltk.download('stopwords')\n",
    "\n",
    "from sklearn.feature_extraction.text import TfidfVectorizer"
   ]
  },
  {
   "cell_type": "markdown",
   "metadata": {},
   "source": [
    "<p><b> <span style=\"color: orange\"> Step 2: Load the data and convert data to DataFrame</b></p>"
   ]
  },
  {
   "cell_type": "code",
   "execution_count": 103,
   "metadata": {},
   "outputs": [
    {
     "data": {
      "text/html": [
       "<div>\n",
       "<style scoped>\n",
       "    .dataframe tbody tr th:only-of-type {\n",
       "        vertical-align: middle;\n",
       "    }\n",
       "\n",
       "    .dataframe tbody tr th {\n",
       "        vertical-align: top;\n",
       "    }\n",
       "\n",
       "    .dataframe thead th {\n",
       "        text-align: right;\n",
       "    }\n",
       "</style>\n",
       "<table border=\"1\" class=\"dataframe\">\n",
       "  <thead>\n",
       "    <tr style=\"text-align: right;\">\n",
       "      <th></th>\n",
       "      <th>TweetText</th>\n",
       "      <th>Emotion</th>\n",
       "    </tr>\n",
       "  </thead>\n",
       "  <tbody>\n",
       "    <tr>\n",
       "      <th>0</th>\n",
       "      <td>@ZubairSabirPTI  pls dont insult the word 'Molna'</td>\n",
       "      <td>anger</td>\n",
       "    </tr>\n",
       "    <tr>\n",
       "      <th>1</th>\n",
       "      <td>@ArcticFantasy I would have almost took offens...</td>\n",
       "      <td>anger</td>\n",
       "    </tr>\n",
       "    <tr>\n",
       "      <th>2</th>\n",
       "      <td>@IllinoisLoyalty that Rutgers game was an abom...</td>\n",
       "      <td>anger</td>\n",
       "    </tr>\n",
       "    <tr>\n",
       "      <th>3</th>\n",
       "      <td>@CozanGaming that's what lisa asked before she...</td>\n",
       "      <td>anger</td>\n",
       "    </tr>\n",
       "    <tr>\n",
       "      <th>4</th>\n",
       "      <td>Sometimes I get mad over something so minuscul...</td>\n",
       "      <td>anger</td>\n",
       "    </tr>\n",
       "  </tbody>\n",
       "</table>\n",
       "</div>"
      ],
      "text/plain": [
       "                                           TweetText Emotion\n",
       "0  @ZubairSabirPTI  pls dont insult the word 'Molna'   anger\n",
       "1  @ArcticFantasy I would have almost took offens...   anger\n",
       "2  @IllinoisLoyalty that Rutgers game was an abom...   anger\n",
       "3  @CozanGaming that's what lisa asked before she...   anger\n",
       "4  Sometimes I get mad over something so minuscul...   anger"
      ]
     },
     "execution_count": 103,
     "metadata": {},
     "output_type": "execute_result"
    },
    {
     "name": "stdout",
     "output_type": "stream",
     "text": [
      "<class 'pandas.core.frame.DataFrame'>\n",
      "RangeIndex: 347 entries, 0 to 346\n",
      "Data columns (total 2 columns):\n",
      " #   Column     Non-Null Count  Dtype \n",
      "---  ------     --------------  ----- \n",
      " 0   TweetText  347 non-null    object\n",
      " 1   Emotion    347 non-null    object\n",
      "dtypes: object(2)\n",
      "memory usage: 5.6+ KB\n"
     ]
    }
   ],
   "source": [
    "df = pd.read_excel('Tweet Emotion Dataset.xlsx', header=None, names=['TweetText', \"Emotion\"])\n",
    "df.head()\n",
    "df.info()"
   ]
  },
  {
   "cell_type": "markdown",
   "metadata": {},
   "source": [
    "<p><b> <span style=\"color: orange\"> Step 3: Clean the data</b></p>"
   ]
  },
  {
   "cell_type": "code",
   "execution_count": 104,
   "metadata": {},
   "outputs": [
    {
     "data": {
      "text/html": [
       "<div>\n",
       "<style scoped>\n",
       "    .dataframe tbody tr th:only-of-type {\n",
       "        vertical-align: middle;\n",
       "    }\n",
       "\n",
       "    .dataframe tbody tr th {\n",
       "        vertical-align: top;\n",
       "    }\n",
       "\n",
       "    .dataframe thead th {\n",
       "        text-align: right;\n",
       "    }\n",
       "</style>\n",
       "<table border=\"1\" class=\"dataframe\">\n",
       "  <thead>\n",
       "    <tr style=\"text-align: right;\">\n",
       "      <th></th>\n",
       "      <th>TweetText</th>\n",
       "      <th>Emotion</th>\n",
       "    </tr>\n",
       "  </thead>\n",
       "  <tbody>\n",
       "    <tr>\n",
       "      <th>273</th>\n",
       "      <td>@1johndes ball watching &amp;amp; Rojo'd header wa...</td>\n",
       "      <td>sadness</td>\n",
       "    </tr>\n",
       "    <tr>\n",
       "      <th>281</th>\n",
       "      <td>@ccrago It was dreadful, even after he met the...</td>\n",
       "      <td>sadness</td>\n",
       "    </tr>\n",
       "    <tr>\n",
       "      <th>289</th>\n",
       "      <td>[ @HedgehogDylan ] *she would frown a bit, fol...</td>\n",
       "      <td>sadness</td>\n",
       "    </tr>\n",
       "    <tr>\n",
       "      <th>296</th>\n",
       "      <td>@DxfyingGrxvity - frustration, looking up at E...</td>\n",
       "      <td>sadness</td>\n",
       "    </tr>\n",
       "    <tr>\n",
       "      <th>345</th>\n",
       "      <td>Just watched Django Unchained, Other people ma...</td>\n",
       "      <td>sadness</td>\n",
       "    </tr>\n",
       "  </tbody>\n",
       "</table>\n",
       "</div>"
      ],
      "text/plain": [
       "                                             TweetText  Emotion\n",
       "273  @1johndes ball watching &amp; Rojo'd header wa...  sadness\n",
       "281  @ccrago It was dreadful, even after he met the...  sadness\n",
       "289  [ @HedgehogDylan ] *she would frown a bit, fol...  sadness\n",
       "296  @DxfyingGrxvity - frustration, looking up at E...  sadness\n",
       "345  Just watched Django Unchained, Other people ma...  sadness"
      ]
     },
     "execution_count": 104,
     "metadata": {},
     "output_type": "execute_result"
    },
    {
     "data": {
      "text/plain": [
       "Index([273, 281, 289, 296, 345], dtype='int64')"
      ]
     },
     "execution_count": 104,
     "metadata": {},
     "output_type": "execute_result"
    }
   ],
   "source": [
    "# Check for duplicates\n",
    "df[df['TweetText'].duplicated() == True]\n",
    "\n",
    "# Drop duplicated values\n",
    "dup_index = df[df['TweetText'].duplicated() == True].index\n",
    "dup_index\n",
    "df.drop(dup_index, axis = 0, inplace = True)\n",
    "df.reset_index(inplace=True, drop = True)\n",
    "\n"
   ]
  },
  {
   "cell_type": "code",
   "execution_count": 105,
   "metadata": {},
   "outputs": [
    {
     "data": {
      "text/plain": [
       "(342, 2)"
      ]
     },
     "execution_count": 105,
     "metadata": {},
     "output_type": "execute_result"
    }
   ],
   "source": [
    "# Shape of data after dropping duplicates\n",
    "df.shape"
   ]
  },
  {
   "cell_type": "code",
   "execution_count": 106,
   "metadata": {},
   "outputs": [],
   "source": [
    "# Clean text function:\n",
    "def text_clean(text, method, rm_stop):\n",
    "    text = re.sub(r\"\\n\", \"\", text)   # remove line breaks\n",
    "    text = text.lower()  # convert to lowercase\n",
    "    text = re.sub(r'http[s]?://\\S+', '', text)   # remove hyperlinks\n",
    "    text = re.sub(r\"\\d+\", \"\", text)   # remove digits (numbers)\n",
    "    text = re.sub(r'[\\$\\d+\\d+\\$]', \"\", text)  # remove currencies \n",
    "    text = re.sub(r'\\d+[\\.\\/-]\\d+[\\.\\/-]\\d+', '', text)   # remove dates \n",
    "    text = re.sub(r'\\d+[\\.\\/-]\\d+[\\.\\/-]\\d+', '', text)\n",
    "    text = re.sub(r'\\d+[\\.\\/-]\\d+[\\.\\/-]\\d+', '', text)\n",
    "    text = re.sub(r'[^\\x00-\\x7f]', r' ', text)   # remove non-ascii\n",
    "    text = re.sub(r'[^\\w\\s]', '', text)   # remove punctuation\n",
    "    # text = re.sub(r'(.)\\1+', r'\\1', text)  \n",
    "    text = re.sub(r'(\\w)(\\1{2,})', r'\\1', text) # Replace words with multiple consecutive letters with the standard form\n",
    "    text = re.sub(r\"(\\w)([A-Z])\", r\"\\1 \\2\", text)  # Insert a space before all capital letters in the middle of a sentence\n",
    "\n",
    "    # remove stop words\n",
    "    if rm_stop:\n",
    "        filtered_tokens = [word for word in word_tokenize(text) if word.lower() not in set(stopwords.words('english'))]\n",
    "        text = \" \".join(filtered_tokens)\n",
    "\n",
    "    # lemmatization: typically preferred over stemming\n",
    "    if method == 'L':\n",
    "        lemmer = WordNetLemmatizer()\n",
    "        lemm_tokens = [lemmer.lemmatize(word) for word in word_tokenize(text)]\n",
    "        text = \" \".join(lemm_tokens)\n",
    "\n",
    "    # stemming\n",
    "    elif method == 'S':\n",
    "        porter = PorterStemmer()\n",
    "        stem_tokens = [porter.stem(word) for word in word_tokenize(text)]\n",
    "        text = \" \".join(stem_tokens)\n",
    "\n",
    "    # remove words with length shorter than 4 characters\n",
    "    text = ' '.join(word for word in text.split() if len(word) >= 4)\n",
    "\n",
    "    return text"
   ]
  },
  {
   "cell_type": "code",
   "execution_count": 107,
   "metadata": {},
   "outputs": [],
   "source": [
    "# Clean data\n",
    "df['CleanedText'] = df['TweetText'].apply(lambda x: text_clean(x, method='L', rm_stop=True))"
   ]
  },
  {
   "cell_type": "code",
   "execution_count": 108,
   "metadata": {},
   "outputs": [
    {
     "data": {
      "text/plain": [
       "301    little extra money would blow whole paycheck k...\n",
       "327    yesterday finished watching penny dreadful bea...\n",
       "316    barcabhoy course didnt sink stud knee like for...\n",
       "148    upping room make apprehend leaving charcoal ow...\n",
       "107    apocalypse nothing thought would benneveryone ...\n",
       "88     reallyjumanji rock jack black kevin hartare ki...\n",
       "72                        seeing alex revells face angry\n",
       "Name: CleanedText, dtype: object"
      ]
     },
     "execution_count": 108,
     "metadata": {},
     "output_type": "execute_result"
    }
   ],
   "source": [
    "df['CleanedText'] .sample(7)"
   ]
  },
  {
   "cell_type": "code",
   "execution_count": 109,
   "metadata": {},
   "outputs": [
    {
     "data": {
      "text/html": [
       "<div>\n",
       "<style scoped>\n",
       "    .dataframe tbody tr th:only-of-type {\n",
       "        vertical-align: middle;\n",
       "    }\n",
       "\n",
       "    .dataframe tbody tr th {\n",
       "        vertical-align: top;\n",
       "    }\n",
       "\n",
       "    .dataframe thead th {\n",
       "        text-align: right;\n",
       "    }\n",
       "</style>\n",
       "<table border=\"1\" class=\"dataframe\">\n",
       "  <thead>\n",
       "    <tr style=\"text-align: right;\">\n",
       "      <th></th>\n",
       "      <th>Emotion</th>\n",
       "      <th>CleanedText</th>\n",
       "    </tr>\n",
       "  </thead>\n",
       "  <tbody>\n",
       "    <tr>\n",
       "      <th>128</th>\n",
       "      <td>fear</td>\n",
       "      <td>theyll friend shake hand kick door thas game</td>\n",
       "    </tr>\n",
       "    <tr>\n",
       "      <th>108</th>\n",
       "      <td>fear</td>\n",
       "      <td>want service frontier terrible service atampt ...</td>\n",
       "    </tr>\n",
       "    <tr>\n",
       "      <th>96</th>\n",
       "      <td>fear</td>\n",
       "      <td>fatgirlhealthy mbscbill violence intimidation ...</td>\n",
       "    </tr>\n",
       "    <tr>\n",
       "      <th>270</th>\n",
       "      <td>joy</td>\n",
       "      <td>gigafag pipertownsend_ snapchat would differ o...</td>\n",
       "    </tr>\n",
       "    <tr>\n",
       "      <th>196</th>\n",
       "      <td>joy</td>\n",
       "      <td>nawaz sharif getting funnier kapilsharmak chal...</td>\n",
       "    </tr>\n",
       "    <tr>\n",
       "      <th>241</th>\n",
       "      <td>joy</td>\n",
       "      <td>communism_kills subway melt make sure hearty i...</td>\n",
       "    </tr>\n",
       "    <tr>\n",
       "      <th>225</th>\n",
       "      <td>joy</td>\n",
       "      <td>greet raised hgatchristmas come sparkling cllr...</td>\n",
       "    </tr>\n",
       "    <tr>\n",
       "      <th>247</th>\n",
       "      <td>joy</td>\n",
       "      <td>dolores thin lipped smile graced glossed blue ...</td>\n",
       "    </tr>\n",
       "    <tr>\n",
       "      <th>289</th>\n",
       "      <td>sadness</td>\n",
       "      <td>might radiox tomorrow hopefully current stink ...</td>\n",
       "    </tr>\n",
       "    <tr>\n",
       "      <th>301</th>\n",
       "      <td>sadness</td>\n",
       "      <td>little extra money would blow whole paycheck k...</td>\n",
       "    </tr>\n",
       "  </tbody>\n",
       "</table>\n",
       "</div>"
      ],
      "text/plain": [
       "     Emotion                                        CleanedText\n",
       "128     fear       theyll friend shake hand kick door thas game\n",
       "108     fear  want service frontier terrible service atampt ...\n",
       "96      fear  fatgirlhealthy mbscbill violence intimidation ...\n",
       "270      joy  gigafag pipertownsend_ snapchat would differ o...\n",
       "196      joy  nawaz sharif getting funnier kapilsharmak chal...\n",
       "241      joy  communism_kills subway melt make sure hearty i...\n",
       "225      joy  greet raised hgatchristmas come sparkling cllr...\n",
       "247      joy  dolores thin lipped smile graced glossed blue ...\n",
       "289  sadness  might radiox tomorrow hopefully current stink ...\n",
       "301  sadness  little extra money would blow whole paycheck k..."
      ]
     },
     "execution_count": 109,
     "metadata": {},
     "output_type": "execute_result"
    }
   ],
   "source": [
    "df[['Emotion', 'CleanedText']].sample(10)"
   ]
  },
  {
   "cell_type": "markdown",
   "metadata": {},
   "source": [
    "<p><b> <span style=\"color: orange\"> Step 4: Split data to Training and Test set</b></p>"
   ]
  },
  {
   "cell_type": "code",
   "execution_count": 112,
   "metadata": {},
   "outputs": [],
   "source": [
    "from sklearn.model_selection import train_test_split\n",
    "\n",
    "# Split the dataset into training and testing sets\n",
    "train_df, test_df = train_test_split(df, test_size=0.2, random_state=42)"
   ]
  },
  {
   "cell_type": "markdown",
   "metadata": {},
   "source": [
    "<p><b> <span style=\"color: orange\"> Step 5: Build a Classifier Model</b></p>\n",
    "Hybrid approaches: adopts a mixture of rule-based and ML approaches."
   ]
  },
  {
   "cell_type": "code",
   "execution_count": 111,
   "metadata": {},
   "outputs": [],
   "source": [
    "# Rule-based approach for four emotions\n",
    "joy_keywords = ['happy', 'joy', 'excited', 'delight', 'good', 'enjoy','rejoice', 'cheer', 'amuse', 'bliss', 'charm', 'humor', 'pride','satisfy','smile','smiling','laugh','delight',\n",
    "                'hilarious','optimism','love']\n",
    "sadness_keywords = ['sad', 'unhappy', 'tear', 'heartbroken','depressing','unfortunate','awful','sorrow', 'upset', 'sorry','pathetic' ,'traumatic', 'cheerless', 'miserable', 'hurt','cry',]\n",
    "fear_keywords = ['fear', 'scare', 'anxious', 'terrified', 'afraid','panic','horror','distress','worry','nerves',\n",
    "                 'unease','fright','terror', 'anxiety', 'nightmare', 'shock', 'nervous', 'awe', 'terror']\n",
    "anger_keywords = ['angry', 'irate', 'mad', 'outraged', 'insult', 'offense', 'abom', 'inconsodable', 'annoy', \n",
    "                  'irritate', 'displease','provoke','irritate','destroy','ruin','raging','anger', 'fuming','scowl', 'frustration']\n",
    "\n",
    "# Function to apply rule-based approach\n",
    "def rule_based_predict(text):\n",
    "    if any(keyword in text for keyword in joy_keywords):\n",
    "        return 'joy'\n",
    "    elif any(keyword in text for keyword in sadness_keywords):\n",
    "        return 'sadness'\n",
    "    elif any(keyword in text for keyword in fear_keywords):\n",
    "        return 'fear'\n",
    "    elif any(keyword in text for keyword in anger_keywords):\n",
    "        return 'anger'\n",
    "    else:\n",
    "        return 'other'\n"
   ]
  },
  {
   "cell_type": "code",
   "execution_count": 113,
   "metadata": {},
   "outputs": [
    {
     "data": {
      "text/html": [
       "<style>#sk-container-id-19 {color: black;}#sk-container-id-19 pre{padding: 0;}#sk-container-id-19 div.sk-toggleable {background-color: white;}#sk-container-id-19 label.sk-toggleable__label {cursor: pointer;display: block;width: 100%;margin-bottom: 0;padding: 0.3em;box-sizing: border-box;text-align: center;}#sk-container-id-19 label.sk-toggleable__label-arrow:before {content: \"▸\";float: left;margin-right: 0.25em;color: #696969;}#sk-container-id-19 label.sk-toggleable__label-arrow:hover:before {color: black;}#sk-container-id-19 div.sk-estimator:hover label.sk-toggleable__label-arrow:before {color: black;}#sk-container-id-19 div.sk-toggleable__content {max-height: 0;max-width: 0;overflow: hidden;text-align: left;background-color: #f0f8ff;}#sk-container-id-19 div.sk-toggleable__content pre {margin: 0.2em;color: black;border-radius: 0.25em;background-color: #f0f8ff;}#sk-container-id-19 input.sk-toggleable__control:checked~div.sk-toggleable__content {max-height: 200px;max-width: 100%;overflow: auto;}#sk-container-id-19 input.sk-toggleable__control:checked~label.sk-toggleable__label-arrow:before {content: \"▾\";}#sk-container-id-19 div.sk-estimator input.sk-toggleable__control:checked~label.sk-toggleable__label {background-color: #d4ebff;}#sk-container-id-19 div.sk-label input.sk-toggleable__control:checked~label.sk-toggleable__label {background-color: #d4ebff;}#sk-container-id-19 input.sk-hidden--visually {border: 0;clip: rect(1px 1px 1px 1px);clip: rect(1px, 1px, 1px, 1px);height: 1px;margin: -1px;overflow: hidden;padding: 0;position: absolute;width: 1px;}#sk-container-id-19 div.sk-estimator {font-family: monospace;background-color: #f0f8ff;border: 1px dotted black;border-radius: 0.25em;box-sizing: border-box;margin-bottom: 0.5em;}#sk-container-id-19 div.sk-estimator:hover {background-color: #d4ebff;}#sk-container-id-19 div.sk-parallel-item::after {content: \"\";width: 100%;border-bottom: 1px solid gray;flex-grow: 1;}#sk-container-id-19 div.sk-label:hover label.sk-toggleable__label {background-color: #d4ebff;}#sk-container-id-19 div.sk-serial::before {content: \"\";position: absolute;border-left: 1px solid gray;box-sizing: border-box;top: 0;bottom: 0;left: 50%;z-index: 0;}#sk-container-id-19 div.sk-serial {display: flex;flex-direction: column;align-items: center;background-color: white;padding-right: 0.2em;padding-left: 0.2em;position: relative;}#sk-container-id-19 div.sk-item {position: relative;z-index: 1;}#sk-container-id-19 div.sk-parallel {display: flex;align-items: stretch;justify-content: center;background-color: white;position: relative;}#sk-container-id-19 div.sk-item::before, #sk-container-id-19 div.sk-parallel-item::before {content: \"\";position: absolute;border-left: 1px solid gray;box-sizing: border-box;top: 0;bottom: 0;left: 50%;z-index: -1;}#sk-container-id-19 div.sk-parallel-item {display: flex;flex-direction: column;z-index: 1;position: relative;background-color: white;}#sk-container-id-19 div.sk-parallel-item:first-child::after {align-self: flex-end;width: 50%;}#sk-container-id-19 div.sk-parallel-item:last-child::after {align-self: flex-start;width: 50%;}#sk-container-id-19 div.sk-parallel-item:only-child::after {width: 0;}#sk-container-id-19 div.sk-dashed-wrapped {border: 1px dashed gray;margin: 0 0.4em 0.5em 0.4em;box-sizing: border-box;padding-bottom: 0.4em;background-color: white;}#sk-container-id-19 div.sk-label label {font-family: monospace;font-weight: bold;display: inline-block;line-height: 1.2em;}#sk-container-id-19 div.sk-label-container {text-align: center;}#sk-container-id-19 div.sk-container {/* jupyter's `normalize.less` sets `[hidden] { display: none; }` but bootstrap.min.css set `[hidden] { display: none !important; }` so we also need the `!important` here to be able to override the default hidden behavior on the sphinx rendered scikit-learn.org. See: https://github.com/scikit-learn/scikit-learn/issues/21755 */display: inline-block !important;position: relative;}#sk-container-id-19 div.sk-text-repr-fallback {display: none;}</style><div id=\"sk-container-id-19\" class=\"sk-top-container\"><div class=\"sk-text-repr-fallback\"><pre>MultinomialNB(alpha=0.1)</pre><b>In a Jupyter environment, please rerun this cell to show the HTML representation or trust the notebook. <br />On GitHub, the HTML representation is unable to render, please try loading this page with nbviewer.org.</b></div><div class=\"sk-container\" hidden><div class=\"sk-item\"><div class=\"sk-estimator sk-toggleable\"><input class=\"sk-toggleable__control sk-hidden--visually\" id=\"sk-estimator-id-19\" type=\"checkbox\" checked><label for=\"sk-estimator-id-19\" class=\"sk-toggleable__label sk-toggleable__label-arrow\">MultinomialNB</label><div class=\"sk-toggleable__content\"><pre>MultinomialNB(alpha=0.1)</pre></div></div></div></div></div>"
      ],
      "text/plain": [
       "MultinomialNB(alpha=0.1)"
      ]
     },
     "execution_count": 113,
     "metadata": {},
     "output_type": "execute_result"
    }
   ],
   "source": [
    "from sklearn.naive_bayes import MultinomialNB\n",
    "\n",
    "#vectorize dataset\n",
    "tfidf = TfidfVectorizer()\n",
    "X_train_vec = tfidf.fit_transform(train_df['CleanedText'])\n",
    "y_train = train_df['Emotion']\n",
    "\n",
    "#Train Naive Bayes model\n",
    "model = MultinomialNB(alpha=0.1)\n",
    "model.fit(X_train_vec, y_train)\n",
    "\n",
    "# Apply rule-based approach and Naive Bayes model\n",
    "test_df['RuleBasedPrediction'] = test_df['CleanedText'].apply(rule_based_predict)\n",
    "X_test_vec = tfidf.transform(test_df['CleanedText'])\n",
    "test_df['MLPrediction'] = model.predict(X_test_vec)\n",
    "\n",
    "# Combine predictions\n",
    "def combine_predictions(rule_based, ml_based):\n",
    "    # Use rule-based prediction if available, otherwise use ML-based prediction\n",
    "    return rule_based if rule_based != 'other' else ml_based\n",
    "\n",
    "test_df['CombinedPrediction'] = test_df.apply(lambda row: combine_predictions(row['RuleBasedPrediction'], row['MLPrediction']), axis=1)"
   ]
  },
  {
   "cell_type": "code",
   "execution_count": 115,
   "metadata": {},
   "outputs": [
    {
     "data": {
      "text/html": [
       "<div>\n",
       "<style scoped>\n",
       "    .dataframe tbody tr th:only-of-type {\n",
       "        vertical-align: middle;\n",
       "    }\n",
       "\n",
       "    .dataframe tbody tr th {\n",
       "        vertical-align: top;\n",
       "    }\n",
       "\n",
       "    .dataframe thead th {\n",
       "        text-align: right;\n",
       "    }\n",
       "</style>\n",
       "<table border=\"1\" class=\"dataframe\">\n",
       "  <thead>\n",
       "    <tr style=\"text-align: right;\">\n",
       "      <th></th>\n",
       "      <th>TweetText</th>\n",
       "      <th>Emotion</th>\n",
       "      <th>CleanedText</th>\n",
       "      <th>RuleBasedPrediction</th>\n",
       "      <th>MLPrediction</th>\n",
       "      <th>CombinedPrediction</th>\n",
       "    </tr>\n",
       "  </thead>\n",
       "  <tbody>\n",
       "    <tr>\n",
       "      <th>286</th>\n",
       "      <td>@OHSOVICTORIOUS_ @FaZeAdapt We all seen it com...</td>\n",
       "      <td>sadness</td>\n",
       "      <td>ohsovictorious_ fazeadapt seen coming instagra...</td>\n",
       "      <td>other</td>\n",
       "      <td>joy</td>\n",
       "      <td>joy</td>\n",
       "    </tr>\n",
       "    <tr>\n",
       "      <th>118</th>\n",
       "      <td>@AlaskaGurus @adventuretweets agreed! üòç an ...</td>\n",
       "      <td>fear</td>\n",
       "      <td>alaskagurus adventuretweets agreed meet beauti...</td>\n",
       "      <td>other</td>\n",
       "      <td>fear</td>\n",
       "      <td>fear</td>\n",
       "    </tr>\n",
       "    <tr>\n",
       "      <th>42</th>\n",
       "      <td>Kik to trade, have fun or a conversation  (kik...</td>\n",
       "      <td>anger</td>\n",
       "      <td>trade conversation youraffair kikme messageme ...</td>\n",
       "      <td>other</td>\n",
       "      <td>anger</td>\n",
       "      <td>anger</td>\n",
       "    </tr>\n",
       "    <tr>\n",
       "      <th>145</th>\n",
       "      <td>Rooney shocking attempted cross</td>\n",
       "      <td>fear</td>\n",
       "      <td>rooney shocking attempted cross</td>\n",
       "      <td>fear</td>\n",
       "      <td>fear</td>\n",
       "      <td>fear</td>\n",
       "    </tr>\n",
       "    <tr>\n",
       "      <th>116</th>\n",
       "      <td>@spencer0415 awe, I love you kid!!</td>\n",
       "      <td>fear</td>\n",
       "      <td>spencer love</td>\n",
       "      <td>joy</td>\n",
       "      <td>joy</td>\n",
       "      <td>joy</td>\n",
       "    </tr>\n",
       "    <tr>\n",
       "      <th>113</th>\n",
       "      <td>@soozclifford Sure have... Sydney are too toug...</td>\n",
       "      <td>fear</td>\n",
       "      <td>soozclifford sure sydney tough quick team pres...</td>\n",
       "      <td>other</td>\n",
       "      <td>fear</td>\n",
       "      <td>fear</td>\n",
       "    </tr>\n",
       "    <tr>\n",
       "      <th>109</th>\n",
       "      <td>@TheDappaMc also ¬£2.50 for a chocolate Feast ...</td>\n",
       "      <td>fear</td>\n",
       "      <td>thedappamc also chocolate feast lolly proper s...</td>\n",
       "      <td>fear</td>\n",
       "      <td>fear</td>\n",
       "      <td>fear</td>\n",
       "    </tr>\n",
       "    <tr>\n",
       "      <th>39</th>\n",
       "      <td>@LeonWobYP b***er off. NCFC is a grudge match :)</td>\n",
       "      <td>anger</td>\n",
       "      <td>leonwobyp ncfc grudge match</td>\n",
       "      <td>other</td>\n",
       "      <td>fear</td>\n",
       "      <td>fear</td>\n",
       "    </tr>\n",
       "    <tr>\n",
       "      <th>78</th>\n",
       "      <td>@TrevorHMoore @paget_old In Scotland, the righ...</td>\n",
       "      <td>anger</td>\n",
       "      <td>trevorhmoore paget_old scotland rightwingers r...</td>\n",
       "      <td>other</td>\n",
       "      <td>fear</td>\n",
       "      <td>fear</td>\n",
       "    </tr>\n",
       "    <tr>\n",
       "      <th>147</th>\n",
       "      <td>Another fun fact: i am afraid</td>\n",
       "      <td>fear</td>\n",
       "      <td>another fact afraid</td>\n",
       "      <td>fear</td>\n",
       "      <td>fear</td>\n",
       "      <td>fear</td>\n",
       "    </tr>\n",
       "    <tr>\n",
       "      <th>139</th>\n",
       "      <td>Whatt a trailerrrr !!! @karanjohar @AnushkaSha...</td>\n",
       "      <td>fear</td>\n",
       "      <td>whatt trailer karanjohar anushkasharma ranbirk...</td>\n",
       "      <td>fear</td>\n",
       "      <td>fear</td>\n",
       "      <td>fear</td>\n",
       "    </tr>\n",
       "    <tr>\n",
       "      <th>76</th>\n",
       "      <td>(Sam) Brown's Law: Never offend people with st...</td>\n",
       "      <td>anger</td>\n",
       "      <td>brown never offend people style fake break island</td>\n",
       "      <td>other</td>\n",
       "      <td>anger</td>\n",
       "      <td>anger</td>\n",
       "    </tr>\n",
       "    <tr>\n",
       "      <th>124</th>\n",
       "      <td>‚ä∞ @FrameOfAnAngel ‚ä± \\n\\n+ Of them. I'm her...</td>\n",
       "      <td>fear</td>\n",
       "      <td>frameofanangel answer scare death wont answer ...</td>\n",
       "      <td>fear</td>\n",
       "      <td>fear</td>\n",
       "      <td>fear</td>\n",
       "    </tr>\n",
       "    <tr>\n",
       "      <th>16</th>\n",
       "      <td>Is it me, or is Ding wearing the look of a man...</td>\n",
       "      <td>anger</td>\n",
       "      <td>ding wearing look found arch enemy missus angr...</td>\n",
       "      <td>anger</td>\n",
       "      <td>anger</td>\n",
       "      <td>anger</td>\n",
       "    </tr>\n",
       "    <tr>\n",
       "      <th>5</th>\n",
       "      <td>Sometimes I get mad over something so minuscul...</td>\n",
       "      <td>anger</td>\n",
       "      <td>sometimes something minuscule ruin somebody li...</td>\n",
       "      <td>anger</td>\n",
       "      <td>anger</td>\n",
       "      <td>anger</td>\n",
       "    </tr>\n",
       "    <tr>\n",
       "      <th>233</th>\n",
       "      <td>I'm absolutely in love with Laurie Hernandez, ...</td>\n",
       "      <td>joy</td>\n",
       "      <td>absolutely love laurie hernandez shes adorable...</td>\n",
       "      <td>joy</td>\n",
       "      <td>joy</td>\n",
       "      <td>joy</td>\n",
       "    </tr>\n",
       "    <tr>\n",
       "      <th>75</th>\n",
       "      <td>@DJ_JeanFranko growl!!!</td>\n",
       "      <td>anger</td>\n",
       "      <td>dj_jeanfranko growl</td>\n",
       "      <td>other</td>\n",
       "      <td>anger</td>\n",
       "      <td>anger</td>\n",
       "    </tr>\n",
       "    <tr>\n",
       "      <th>339</th>\n",
       "      <td>I'd rather laugh with the rarest genius, in be...</td>\n",
       "      <td>sadness</td>\n",
       "      <td>rather laugh rarest genius beautiful alliance ...</td>\n",
       "      <td>joy</td>\n",
       "      <td>sadness</td>\n",
       "      <td>joy</td>\n",
       "    </tr>\n",
       "    <tr>\n",
       "      <th>126</th>\n",
       "      <td>@SAHARTHERAPPER I unfollowed without hesitatio...</td>\n",
       "      <td>fear</td>\n",
       "      <td>sahartherapper unfollowed without hesitation</td>\n",
       "      <td>other</td>\n",
       "      <td>joy</td>\n",
       "      <td>joy</td>\n",
       "    </tr>\n",
       "    <tr>\n",
       "      <th>55</th>\n",
       "      <td>@UKBlogAwards @ModishMale I would always be ho...</td>\n",
       "      <td>anger</td>\n",
       "      <td>ukblogawards modishmale would always honest gr...</td>\n",
       "      <td>other</td>\n",
       "      <td>anger</td>\n",
       "      <td>anger</td>\n",
       "    </tr>\n",
       "    <tr>\n",
       "      <th>104</th>\n",
       "      <td>@joey_coops yes Hun! Avoid at all costs!! #nig...</td>\n",
       "      <td>fear</td>\n",
       "      <td>joey_coops avoid cost nightmare</td>\n",
       "      <td>fear</td>\n",
       "      <td>fear</td>\n",
       "      <td>fear</td>\n",
       "    </tr>\n",
       "    <tr>\n",
       "      <th>84</th>\n",
       "      <td>I know this is going to be one of those nights...</td>\n",
       "      <td>fear</td>\n",
       "      <td>know going night take fall asleep</td>\n",
       "      <td>other</td>\n",
       "      <td>fear</td>\n",
       "      <td>fear</td>\n",
       "    </tr>\n",
       "    <tr>\n",
       "      <th>223</th>\n",
       "      <td>Val reminds me of one of the cheerful witches ...</td>\n",
       "      <td>joy</td>\n",
       "      <td>reminds cheerful witch look aurora disney slee...</td>\n",
       "      <td>joy</td>\n",
       "      <td>joy</td>\n",
       "      <td>joy</td>\n",
       "    </tr>\n",
       "    <tr>\n",
       "      <th>268</th>\n",
       "      <td>It feels good to get outside for a minute and ...</td>\n",
       "      <td>joy</td>\n",
       "      <td>feel good outside minute fresh hard stay coope...</td>\n",
       "      <td>joy</td>\n",
       "      <td>joy</td>\n",
       "      <td>joy</td>\n",
       "    </tr>\n",
       "    <tr>\n",
       "      <th>334</th>\n",
       "      <td>Remembering those day when u still did'nt know...</td>\n",
       "      <td>sadness</td>\n",
       "      <td>remembering still didnt know kpop thinking lif...</td>\n",
       "      <td>other</td>\n",
       "      <td>sadness</td>\n",
       "      <td>sadness</td>\n",
       "    </tr>\n",
       "    <tr>\n",
       "      <th>199</th>\n",
       "      <td>I love my family so much #lucky #grateful #sma...</td>\n",
       "      <td>joy</td>\n",
       "      <td>love family much lucky grateful smartassfamily...</td>\n",
       "      <td>joy</td>\n",
       "      <td>joy</td>\n",
       "      <td>joy</td>\n",
       "    </tr>\n",
       "    <tr>\n",
       "      <th>194</th>\n",
       "      <td>@theclobra lol I thought maybe, couldn't decid...</td>\n",
       "      <td>joy</td>\n",
       "      <td>theclobra thought maybe couldnt decide levity</td>\n",
       "      <td>other</td>\n",
       "      <td>joy</td>\n",
       "      <td>joy</td>\n",
       "    </tr>\n",
       "    <tr>\n",
       "      <th>295</th>\n",
       "      <td>@StaceyDavidson_ You're a thief and a liberal ...</td>\n",
       "      <td>sadness</td>\n",
       "      <td>staceydavidson_ youre thief liberal mope inves...</td>\n",
       "      <td>other</td>\n",
       "      <td>anger</td>\n",
       "      <td>anger</td>\n",
       "    </tr>\n",
       "    <tr>\n",
       "      <th>110</th>\n",
       "      <td>@AttentiAlGatto LOL! Why would it scare me? It...</td>\n",
       "      <td>fear</td>\n",
       "      <td>attentialgatto would scare doesnt make sense d...</td>\n",
       "      <td>fear</td>\n",
       "      <td>joy</td>\n",
       "      <td>fear</td>\n",
       "    </tr>\n",
       "    <tr>\n",
       "      <th>57</th>\n",
       "      <td>@SSheil coincidentally watched Ulzana's Raid l...</td>\n",
       "      <td>anger</td>\n",
       "      <td>ssheil coincidentally watched ulzanas raid las...</td>\n",
       "      <td>other</td>\n",
       "      <td>sadness</td>\n",
       "      <td>sadness</td>\n",
       "    </tr>\n",
       "  </tbody>\n",
       "</table>\n",
       "</div>"
      ],
      "text/plain": [
       "                                             TweetText  Emotion  \\\n",
       "286  @OHSOVICTORIOUS_ @FaZeAdapt We all seen it com...  sadness   \n",
       "118  @AlaskaGurus @adventuretweets agreed! üòç an ...     fear   \n",
       "42   Kik to trade, have fun or a conversation  (kik...    anger   \n",
       "145                    Rooney shocking attempted cross     fear   \n",
       "116                 @spencer0415 awe, I love you kid!!     fear   \n",
       "113  @soozclifford Sure have... Sydney are too toug...     fear   \n",
       "109  @TheDappaMc also ¬£2.50 for a chocolate Feast ...     fear   \n",
       "39    @LeonWobYP b***er off. NCFC is a grudge match :)    anger   \n",
       "78   @TrevorHMoore @paget_old In Scotland, the righ...    anger   \n",
       "147                      Another fun fact: i am afraid     fear   \n",
       "139  Whatt a trailerrrr !!! @karanjohar @AnushkaSha...     fear   \n",
       "76   (Sam) Brown's Law: Never offend people with st...    anger   \n",
       "124  ‚ä∞ @FrameOfAnAngel ‚ä± \\n\\n+ Of them. I'm her...     fear   \n",
       "16   Is it me, or is Ding wearing the look of a man...    anger   \n",
       "5    Sometimes I get mad over something so minuscul...    anger   \n",
       "233  I'm absolutely in love with Laurie Hernandez, ...      joy   \n",
       "75                             @DJ_JeanFranko growl!!!    anger   \n",
       "339  I'd rather laugh with the rarest genius, in be...  sadness   \n",
       "126  @SAHARTHERAPPER I unfollowed without hesitatio...     fear   \n",
       "55   @UKBlogAwards @ModishMale I would always be ho...    anger   \n",
       "104  @joey_coops yes Hun! Avoid at all costs!! #nig...     fear   \n",
       "84   I know this is going to be one of those nights...     fear   \n",
       "223  Val reminds me of one of the cheerful witches ...      joy   \n",
       "268  It feels good to get outside for a minute and ...      joy   \n",
       "334  Remembering those day when u still did'nt know...  sadness   \n",
       "199  I love my family so much #lucky #grateful #sma...      joy   \n",
       "194  @theclobra lol I thought maybe, couldn't decid...      joy   \n",
       "295  @StaceyDavidson_ You're a thief and a liberal ...  sadness   \n",
       "110  @AttentiAlGatto LOL! Why would it scare me? It...     fear   \n",
       "57   @SSheil coincidentally watched Ulzana's Raid l...    anger   \n",
       "\n",
       "                                           CleanedText RuleBasedPrediction  \\\n",
       "286  ohsovictorious_ fazeadapt seen coming instagra...               other   \n",
       "118  alaskagurus adventuretweets agreed meet beauti...               other   \n",
       "42   trade conversation youraffair kikme messageme ...               other   \n",
       "145                    rooney shocking attempted cross                fear   \n",
       "116                                       spencer love                 joy   \n",
       "113  soozclifford sure sydney tough quick team pres...               other   \n",
       "109  thedappamc also chocolate feast lolly proper s...                fear   \n",
       "39                         leonwobyp ncfc grudge match               other   \n",
       "78   trevorhmoore paget_old scotland rightwingers r...               other   \n",
       "147                                another fact afraid                fear   \n",
       "139  whatt trailer karanjohar anushkasharma ranbirk...                fear   \n",
       "76   brown never offend people style fake break island               other   \n",
       "124  frameofanangel answer scare death wont answer ...                fear   \n",
       "16   ding wearing look found arch enemy missus angr...               anger   \n",
       "5    sometimes something minuscule ruin somebody li...               anger   \n",
       "233  absolutely love laurie hernandez shes adorable...                 joy   \n",
       "75                                 dj_jeanfranko growl               other   \n",
       "339  rather laugh rarest genius beautiful alliance ...                 joy   \n",
       "126       sahartherapper unfollowed without hesitation               other   \n",
       "55   ukblogawards modishmale would always honest gr...               other   \n",
       "104                    joey_coops avoid cost nightmare                fear   \n",
       "84                   know going night take fall asleep               other   \n",
       "223  reminds cheerful witch look aurora disney slee...                 joy   \n",
       "268  feel good outside minute fresh hard stay coope...                 joy   \n",
       "334  remembering still didnt know kpop thinking lif...               other   \n",
       "199  love family much lucky grateful smartassfamily...                 joy   \n",
       "194      theclobra thought maybe couldnt decide levity               other   \n",
       "295  staceydavidson_ youre thief liberal mope inves...               other   \n",
       "110  attentialgatto would scare doesnt make sense d...                fear   \n",
       "57   ssheil coincidentally watched ulzanas raid las...               other   \n",
       "\n",
       "    MLPrediction CombinedPrediction  \n",
       "286          joy                joy  \n",
       "118         fear               fear  \n",
       "42         anger              anger  \n",
       "145         fear               fear  \n",
       "116          joy                joy  \n",
       "113         fear               fear  \n",
       "109         fear               fear  \n",
       "39          fear               fear  \n",
       "78          fear               fear  \n",
       "147         fear               fear  \n",
       "139         fear               fear  \n",
       "76         anger              anger  \n",
       "124         fear               fear  \n",
       "16         anger              anger  \n",
       "5          anger              anger  \n",
       "233          joy                joy  \n",
       "75         anger              anger  \n",
       "339      sadness                joy  \n",
       "126          joy                joy  \n",
       "55         anger              anger  \n",
       "104         fear               fear  \n",
       "84          fear               fear  \n",
       "223          joy                joy  \n",
       "268          joy                joy  \n",
       "334      sadness            sadness  \n",
       "199          joy                joy  \n",
       "194          joy                joy  \n",
       "295        anger              anger  \n",
       "110          joy               fear  \n",
       "57       sadness            sadness  "
      ]
     },
     "execution_count": 115,
     "metadata": {},
     "output_type": "execute_result"
    }
   ],
   "source": [
    "test_df.sample(30)"
   ]
  },
  {
   "cell_type": "markdown",
   "metadata": {},
   "source": [
    "<p><b> <span style=\"color: orange\"> Step 6: Evaluate Model</b></p>"
   ]
  },
  {
   "cell_type": "code",
   "execution_count": 114,
   "metadata": {},
   "outputs": [
    {
     "name": "stdout",
     "output_type": "stream",
     "text": [
      "Accuracy of combined approach: 0.70\n"
     ]
    }
   ],
   "source": [
    "from sklearn.metrics import accuracy_score\n",
    "\n",
    "# Evaluate combined predictions\n",
    "accuracy_combined = accuracy_score(test_df['Emotion'], test_df['CombinedPrediction'])\n",
    "print(f'Accuracy of combined approach: {accuracy_combined:.2f}')"
   ]
  },
  {
   "cell_type": "code",
   "execution_count": 121,
   "metadata": {},
   "outputs": [
    {
     "data": {
      "text/plain": [
       "array([[13,  2,  3,  2],\n",
       "       [ 1, 17,  5,  0],\n",
       "       [ 0,  2, 13,  0],\n",
       "       [ 1,  0,  5,  5]], dtype=int64)"
      ]
     },
     "execution_count": 121,
     "metadata": {},
     "output_type": "execute_result"
    },
    {
     "data": {
      "text/plain": [
       "<sklearn.metrics._plot.confusion_matrix.ConfusionMatrixDisplay at 0x182db936890>"
      ]
     },
     "execution_count": 121,
     "metadata": {},
     "output_type": "execute_result"
    },
    {
     "name": "stdout",
     "output_type": "stream",
     "text": [
      "              precision    recall  f1-score   support\n",
      "\n",
      "       anger       0.87      0.65      0.74        20\n",
      "        fear       0.81      0.74      0.77        23\n",
      "         joy       0.50      0.87      0.63        15\n",
      "     sadness       0.71      0.45      0.56        11\n",
      "\n",
      "    accuracy                           0.70        69\n",
      "   macro avg       0.72      0.68      0.68        69\n",
      "weighted avg       0.74      0.70      0.70        69\n",
      "\n"
     ]
    },
    {
     "data": {
      "image/png": "[encoded data removed]",
      "text/plain": [
       "<Figure size 640x480 with 2 Axes>"
      ]
     },
     "metadata": {},
     "output_type": "display_data"
    }
   ],
   "source": [
    "from sklearn.metrics import roc_auc_score, roc_curve, confusion_matrix, precision_score, recall_score, accuracy_score, balanced_accuracy_score, f1_score, ConfusionMatrixDisplay\n",
    "from sklearn.model_selection import cross_val_score\n",
    "from sklearn.metrics import confusion_matrix, classification_report\n",
    "\n",
    "# Evaluate model using confusion matrix\n",
    "confusion_matrix(test_df['Emotion'], test_df['CombinedPrediction'])\n",
    "ConfusionMatrixDisplay.from_predictions(test_df['Emotion'], test_df['CombinedPrediction'])\n",
    "print(classification_report(test_df['Emotion'], test_df['CombinedPrediction']))"
   ]
  },
  {
   "cell_type": "markdown",
   "metadata": {},
   "source": [
    "Precision is defined as the proportion of positive predictions to the number of observations that are actually positive.\n",
    "Recall tells us what is the proportion of actually positive observations predicted as positive.\n",
    "F1-score combines precision and recall to measure the test accuracy.\n",
    "For each class:\n",
    "\n",
    "(1) Anger:\n",
    "* True Positives (TP): 13\n",
    "* False Negatives (FN): 2 + 3 + 2 = 7 (Misclassified as sadness, fear, and joy)\n",
    "* False Positives (FP): 1 + 0 + 1 = 2 (Misclassified as fear and sadness)\n",
    "* Precision: 0.87 (87% of predicted 'anger' emotion were correct)\n",
    "* Recall: 0.65 (65% of actual 'anger' emotion were predicted correctly)\n",
    "* F1-score: 0.74 (a balance between precision and recall)\n",
    "\n",
    "(2) Fear:\n",
    "* True Positives (TP): 17\n",
    "* False Negatives (FN):  1 + 5 + 0 = 6 (Misclassified as anger, joy)\n",
    "* False Positives (FP): 2 + 2 = 4 (Misclassified as anger, joy)\n",
    "* Precision: 0.81 (81% of predicted 'fear' emotion were correct)\n",
    "* Recall: 0.74 (74% of actual 'fear' emotion were predicted correctly)\n",
    "* F1-score: 0.77 (a balance between precision and recall)\n",
    "\n",
    "(3) Joy:\n",
    "* True Positives (TP): 13\n",
    "* False Negatives (FN): 0 + 5 + 0 = 5 (Misclassified as anger, fear)\n",
    "* False Positives (FP): 3 + 0 + 5 = 8 (Misclassified as anger, sadness)\n",
    "* Precision: 0.50 (50% of predicted 'joy' emotion were correct)\n",
    "* Recall: 0.87 (74% of actual 'joy' emotion were predicted correctly)\n",
    "* F1-score: 0.63 (a balance between precision and recall)\n",
    "\n",
    "(4) 'Sadness':\n",
    "* True Positives (TP): 13\n",
    "* False Negatives (FN): 0 + 5 + 0 = 5 (Misclassified as anger, fear)\n",
    "* False Positives (FP): 3 + 0 + 5 = 8 (Misclassified as anger, sadness)\n",
    "* Precision: 0.71 (71% of predicted 'sad' emotion were correct)\n",
    "* Recall: 0.45 (45% of actual 'sad' emotion were predicted correctly)\n",
    "* F1-score: 0.56 (a balance between precision and recall)\n",
    "\n",
    "* The model performs well for the \"fear\" and \"joy\" classes, with high precision and recall.\n",
    "* The model struggles more with \"anger,\" especially in terms of recall.\n",
    "* The \"sadness\" class has a reasonable precision but lower recall.\n",
    "\n",
    "==> Overall, the accuracy of this model is 70%. This is a not too bad prediction result."
   ]
  },
  {
   "cell_type": "code",
   "execution_count": 129,
   "metadata": {},
   "outputs": [
    {
     "data": {
      "text/plain": [
       "<Figure size 800x800 with 0 Axes>"
      ]
     },
     "execution_count": 129,
     "metadata": {},
     "output_type": "execute_result"
    },
    {
     "data": {
      "text/plain": [
       "[<matplotlib.lines.Line2D at 0x182dbee18d0>]"
      ]
     },
     "execution_count": 129,
     "metadata": {},
     "output_type": "execute_result"
    },
    {
     "data": {
      "text/plain": [
       "[<matplotlib.lines.Line2D at 0x182dbeccf10>]"
      ]
     },
     "execution_count": 129,
     "metadata": {},
     "output_type": "execute_result"
    },
    {
     "data": {
      "text/plain": [
       "[<matplotlib.lines.Line2D at 0x182dbee22d0>]"
      ]
     },
     "execution_count": 129,
     "metadata": {},
     "output_type": "execute_result"
    },
    {
     "data": {
      "text/plain": [
       "[<matplotlib.lines.Line2D at 0x182dbee2f90>]"
      ]
     },
     "execution_count": 129,
     "metadata": {},
     "output_type": "execute_result"
    },
    {
     "data": {
      "text/plain": [
       "[<matplotlib.lines.Line2D at 0x182dbdab550>]"
      ]
     },
     "execution_count": 129,
     "metadata": {},
     "output_type": "execute_result"
    },
    {
     "data": {
      "text/plain": [
       "Text(0.5, 0, 'False Positive Rate (FPR)')"
      ]
     },
     "execution_count": 129,
     "metadata": {},
     "output_type": "execute_result"
    },
    {
     "data": {
      "text/plain": [
       "Text(0, 0.5, 'True Positive Rate (TPR)')"
      ]
     },
     "execution_count": 129,
     "metadata": {},
     "output_type": "execute_result"
    },
    {
     "data": {
      "text/plain": [
       "Text(0.5, 1.0, '(ROC) Curve for Emotion Classifier Model')"
      ]
     },
     "execution_count": 129,
     "metadata": {},
     "output_type": "execute_result"
    },
    {
     "data": {
      "text/plain": [
       "<matplotlib.legend.Legend at 0x182dbecd690>"
      ]
     },
     "execution_count": 129,
     "metadata": {},
     "output_type": "execute_result"
    },
    {
     "data": {
      "image/png": "[encoded data removed]",
      "text/plain": [
       "<Figure size 800x800 with 1 Axes>"
      ]
     },
     "metadata": {},
     "output_type": "display_data"
    }
   ],
   "source": [
    "from sklearn.metrics import roc_curve, auc\n",
    "from sklearn.preprocessing import label_binarize\n",
    "from itertools import cycle\n",
    "# Predict probabilities on the test set\n",
    "y_prob = model.predict_proba(X_test_vec)\n",
    "\n",
    "# Binarize the output\n",
    "y_test_bin = label_binarize(test_df['Emotion'], classes=np.unique(test_df['Emotion']))\n",
    "n_classes = y_test_bin.shape[1]\n",
    "\n",
    "# Compute ROC curve and AUC for each class\n",
    "fpr = dict()\n",
    "tpr = dict()\n",
    "roc_auc = dict()\n",
    "for i in range(n_classes):\n",
    "    fpr[i], tpr[i], _ = roc_curve(y_test_bin[:, i], y_prob[:, i])\n",
    "    roc_auc[i] = auc(fpr[i], tpr[i])\n",
    "\n",
    "# Plot ROC curve for each class\n",
    "plt.figure(figsize=(8, 8))\n",
    "colors = cycle(['aqua', 'darkorange', 'cornflowerblue', 'red']) \n",
    "for i, color in zip(range(n_classes), colors):\n",
    "    plt.plot(fpr[i], tpr[i], color=color, lw=2, label=f'Class {i} (AUC = {roc_auc[i]:.2f})')\n",
    "\n",
    "plt.plot([0, 1], [0, 1], color='navy', lw=2, linestyle='--')\n",
    "plt.xlabel('False Positive Rate (FPR)')\n",
    "plt.ylabel('True Positive Rate (TPR)')\n",
    "plt.title('(ROC) Curve for Emotion Classifier Model')\n",
    "plt.legend(loc='lower right')\n",
    "plt.show()"
   ]
  },
  {
   "cell_type": "markdown",
   "metadata": {},
   "source": [
    "The True Positive Rate of all 4 emotion classes is quite high. This is an optimist result."
   ]
  },
  {
   "cell_type": "markdown",
   "metadata": {},
   "source": [
    "## Error Rate Plot"
   ]
  },
  {
   "cell_type": "code",
   "execution_count": 125,
   "metadata": {},
   "outputs": [
    {
     "data": {
      "text/plain": [
       "[<matplotlib.lines.Line2D at 0x182dbcb9550>]"
      ]
     },
     "execution_count": 125,
     "metadata": {},
     "output_type": "execute_result"
    },
    {
     "data": {
      "text/plain": [
       "[<matplotlib.lines.Line2D at 0x182dbcab410>]"
      ]
     },
     "execution_count": 125,
     "metadata": {},
     "output_type": "execute_result"
    },
    {
     "data": {
      "text/plain": [
       "Text(0.5, 0, 'Number of Nodes')"
      ]
     },
     "execution_count": 125,
     "metadata": {},
     "output_type": "execute_result"
    },
    {
     "data": {
      "text/plain": [
       "Text(0, 0.5, 'Error Rate (%)')"
      ]
     },
     "execution_count": 125,
     "metadata": {},
     "output_type": "execute_result"
    },
    {
     "data": {
      "text/plain": [
       "(-1.0, 50.0)"
      ]
     },
     "execution_count": 125,
     "metadata": {},
     "output_type": "execute_result"
    },
    {
     "data": {
      "text/plain": [
       "Text(0.5, 1.0, 'Comparison of Error Rates on Training and Test Sets')"
      ]
     },
     "execution_count": 125,
     "metadata": {},
     "output_type": "execute_result"
    },
    {
     "data": {
      "text/plain": [
       "<matplotlib.legend.Legend at 0x182dbc98950>"
      ]
     },
     "execution_count": 125,
     "metadata": {},
     "output_type": "execute_result"
    },
    {
     "data": {
      "image/png": "[encoded data removed]",
      "text/plain": [
       "<Figure size 640x480 with 1 Axes>"
      ]
     },
     "metadata": {},
     "output_type": "display_data"
    }
   ],
   "source": [
    "import matplotlib.pyplot as plt\n",
    "from sklearn.metrics import accuracy_score\n",
    "\n",
    "\n",
    "# Get predictions for training set and test set\n",
    "train_predictions = model.predict(X_train_vec)\n",
    "test_predictions = model.predict(X_test_vec)\n",
    "\n",
    "# Calculate error rates\n",
    "train_error_rate = (1 - accuracy_score(train_df['Emotion'], train_predictions)) *100\n",
    "test_error_rate = (1 - accuracy_score(test_df['Emotion'], test_predictions)) *100\n",
    "\n",
    "# Plotting\n",
    "nodes = [10, 30, 50, 100, 200, 342]  \n",
    "plt.plot(nodes, [train_error_rate] * len(nodes), label='Training Set', marker='o')\n",
    "plt.plot(nodes, [test_error_rate] * len(nodes), label='Test Set', marker='o')\n",
    "\n",
    "plt.xlabel('Number of Nodes')\n",
    "plt.ylabel('Error Rate (%)')\n",
    "plt.ylim(-1, 50) \n",
    "plt.title('Comparison of Error Rates on Training and Test Sets')\n",
    "plt.legend()\n",
    "plt.show()\n"
   ]
  },
  {
   "cell_type": "markdown",
   "metadata": {},
   "source": [
    "The model is a overfitting. In my opinion, the number of data sample is little. If we can collect more data sample, the overfitting problem may improve"
   ]
  },
  {
   "cell_type": "markdown",
   "metadata": {},
   "source": [
    "<p><b> <span style=\"color: orange\"> Step 6: Predict unlabeled dataset</b></p>"
   ]
  },
  {
   "cell_type": "code",
   "execution_count": 131,
   "metadata": {},
   "outputs": [
    {
     "data": {
      "text/html": [
       "<div>\n",
       "<style scoped>\n",
       "    .dataframe tbody tr th:only-of-type {\n",
       "        vertical-align: middle;\n",
       "    }\n",
       "\n",
       "    .dataframe tbody tr th {\n",
       "        vertical-align: top;\n",
       "    }\n",
       "\n",
       "    .dataframe thead th {\n",
       "        text-align: right;\n",
       "    }\n",
       "</style>\n",
       "<table border=\"1\" class=\"dataframe\">\n",
       "  <thead>\n",
       "    <tr style=\"text-align: right;\">\n",
       "      <th></th>\n",
       "      <th>TweetText</th>\n",
       "      <th>Emotion</th>\n",
       "    </tr>\n",
       "  </thead>\n",
       "  <tbody>\n",
       "    <tr>\n",
       "      <th>0</th>\n",
       "      <td>At the point today where if someone says somet...</td>\n",
       "      <td>?</td>\n",
       "    </tr>\n",
       "    <tr>\n",
       "      <th>1</th>\n",
       "      <td>@CorningFootball  IT'S GAME DAY!!!!      T MIN...</td>\n",
       "      <td>?</td>\n",
       "    </tr>\n",
       "    <tr>\n",
       "      <th>2</th>\n",
       "      <td>This game has pissed me off more than any othe...</td>\n",
       "      <td>?</td>\n",
       "    </tr>\n",
       "    <tr>\n",
       "      <th>3</th>\n",
       "      <td>@spamvicious I've just found out it's Candice ...</td>\n",
       "      <td>?</td>\n",
       "    </tr>\n",
       "    <tr>\n",
       "      <th>4</th>\n",
       "      <td>@moocowward @mrsajhargreaves @Melly77 @GaryBar...</td>\n",
       "      <td>?</td>\n",
       "    </tr>\n",
       "  </tbody>\n",
       "</table>\n",
       "</div>"
      ],
      "text/plain": [
       "                                           TweetText Emotion\n",
       "0  At the point today where if someone says somet...       ?\n",
       "1  @CorningFootball  IT'S GAME DAY!!!!      T MIN...       ?\n",
       "2  This game has pissed me off more than any othe...       ?\n",
       "3  @spamvicious I've just found out it's Candice ...       ?\n",
       "4  @moocowward @mrsajhargreaves @Melly77 @GaryBar...       ?"
      ]
     },
     "execution_count": 131,
     "metadata": {},
     "output_type": "execute_result"
    }
   ],
   "source": [
    "# Read excel file\n",
    "testing_data = pd.read_excel('test_dataset.xlsx', header=None, names=['TweetText', 'Emotion'])\n",
    "testing_data.head()"
   ]
  },
  {
   "cell_type": "code",
   "execution_count": 132,
   "metadata": {},
   "outputs": [
    {
     "name": "stdout",
     "output_type": "stream",
     "text": [
      "                                              TweetText CombinedPrediction\n",
      "0     At the point today where if someone says somet...            sadness\n",
      "1     @CorningFootball  IT'S GAME DAY!!!!      T MIN...              anger\n",
      "2     This game has pissed me off more than any othe...              anger\n",
      "3     @spamvicious I've just found out it's Candice ...              anger\n",
      "4     @moocowward @mrsajhargreaves @Melly77 @GaryBar...                joy\n",
      "...                                                 ...                ...\n",
      "3137    Why does Candice constantly pout #GBBO üíÑüòí               fear\n",
      "3138  @redBus_in #unhappy with #redbus CC, when I ta...                joy\n",
      "3139  @AceOperative789 no pull him afew weeks ago, s...            sadness\n",
      "3140  I'm buying art supplies and I'm debating how s...            sadness\n",
      "3141  @sainsburys Could you ask your Chafford Hundre...                joy\n",
      "\n",
      "[3142 rows x 2 columns]\n"
     ]
    }
   ],
   "source": [
    "# Apply rule-based approach and Naive Bayes model to the unlabeled dataset\n",
    "testing_data['RuleBasedPrediction'] = testing_data['TweetText'].apply(rule_based_predict)\n",
    "X_testing_data_vec = tfidf.transform(testing_data['TweetText'])\n",
    "testing_data['MLPrediction'] = model.predict(X_testing_data_vec)\n",
    "\n",
    "# Combine predictions for the unlabeled dataset\n",
    "testing_data['CombinedPrediction'] = testing_data.apply(lambda row: combine_predictions(row['RuleBasedPrediction'], row['MLPrediction']), axis=1)\n",
    "\n",
    "# Display the resulting DataFrame with combined predictions\n",
    "print(testing_data[['TweetText', 'CombinedPrediction']])\n",
    "\n",
    "# Save the results to a new Excel file\n",
    "testing_data[['TweetText', 'CombinedPrediction']].to_excel('test_dataset_result.xlsx', index=False)"
   ]
  },
  {
   "cell_type": "code",
   "execution_count": 133,
   "metadata": {},
   "outputs": [
    {
     "data": {
      "text/html": [
       "<div>\n",
       "<style scoped>\n",
       "    .dataframe tbody tr th:only-of-type {\n",
       "        vertical-align: middle;\n",
       "    }\n",
       "\n",
       "    .dataframe tbody tr th {\n",
       "        vertical-align: top;\n",
       "    }\n",
       "\n",
       "    .dataframe thead th {\n",
       "        text-align: right;\n",
       "    }\n",
       "</style>\n",
       "<table border=\"1\" class=\"dataframe\">\n",
       "  <thead>\n",
       "    <tr style=\"text-align: right;\">\n",
       "      <th></th>\n",
       "      <th>TweetText</th>\n",
       "      <th>Emotion</th>\n",
       "      <th>RuleBasedPrediction</th>\n",
       "      <th>MLPrediction</th>\n",
       "      <th>CombinedPrediction</th>\n",
       "    </tr>\n",
       "  </thead>\n",
       "  <tbody>\n",
       "    <tr>\n",
       "      <th>282</th>\n",
       "      <td>@alliex both, scrap *ll the rage instead</td>\n",
       "      <td>?</td>\n",
       "      <td>other</td>\n",
       "      <td>anger</td>\n",
       "      <td>anger</td>\n",
       "    </tr>\n",
       "    <tr>\n",
       "      <th>1559</th>\n",
       "      <td>@darcomafloy OMG IM CRYING HAHAHAHA ikaw talag...</td>\n",
       "      <td>?</td>\n",
       "      <td>other</td>\n",
       "      <td>anger</td>\n",
       "      <td>anger</td>\n",
       "    </tr>\n",
       "    <tr>\n",
       "      <th>1324</th>\n",
       "      <td>@Rovers what highlights ? I would imagine you ...</td>\n",
       "      <td>?</td>\n",
       "      <td>other</td>\n",
       "      <td>sadness</td>\n",
       "      <td>sadness</td>\n",
       "    </tr>\n",
       "    <tr>\n",
       "      <th>2433</th>\n",
       "      <td>I'll find Myself smiling and even laughing at ...</td>\n",
       "      <td>?</td>\n",
       "      <td>joy</td>\n",
       "      <td>joy</td>\n",
       "      <td>joy</td>\n",
       "    </tr>\n",
       "    <tr>\n",
       "      <th>2811</th>\n",
       "      <td>My encouragement today is my dog while my head...</td>\n",
       "      <td>?</td>\n",
       "      <td>other</td>\n",
       "      <td>sadness</td>\n",
       "      <td>sadness</td>\n",
       "    </tr>\n",
       "    <tr>\n",
       "      <th>2721</th>\n",
       "      <td>@HonestAndFrank but  @BillCosby drugged and ra...</td>\n",
       "      <td>?</td>\n",
       "      <td>other</td>\n",
       "      <td>sadness</td>\n",
       "      <td>sadness</td>\n",
       "    </tr>\n",
       "    <tr>\n",
       "      <th>1627</th>\n",
       "      <td>#soywax limited edition horror candles going u...</td>\n",
       "      <td>?</td>\n",
       "      <td>fear</td>\n",
       "      <td>fear</td>\n",
       "      <td>fear</td>\n",
       "    </tr>\n",
       "    <tr>\n",
       "      <th>310</th>\n",
       "      <td>All the young people are so bitter about how t...</td>\n",
       "      <td>?</td>\n",
       "      <td>other</td>\n",
       "      <td>anger</td>\n",
       "      <td>anger</td>\n",
       "    </tr>\n",
       "    <tr>\n",
       "      <th>179</th>\n",
       "      <td>@daynutrition @sliqnicq @nytimes I don't liste...</td>\n",
       "      <td>?</td>\n",
       "      <td>anger</td>\n",
       "      <td>anger</td>\n",
       "      <td>anger</td>\n",
       "    </tr>\n",
       "    <tr>\n",
       "      <th>1975</th>\n",
       "      <td>Nothing lovelier than your great mate sending ...</td>\n",
       "      <td>?</td>\n",
       "      <td>joy</td>\n",
       "      <td>joy</td>\n",
       "      <td>joy</td>\n",
       "    </tr>\n",
       "  </tbody>\n",
       "</table>\n",
       "</div>"
      ],
      "text/plain": [
       "                                              TweetText Emotion  \\\n",
       "282            @alliex both, scrap *ll the rage instead       ?   \n",
       "1559  @darcomafloy OMG IM CRYING HAHAHAHA ikaw talag...       ?   \n",
       "1324  @Rovers what highlights ? I would imagine you ...       ?   \n",
       "2433  I'll find Myself smiling and even laughing at ...       ?   \n",
       "2811  My encouragement today is my dog while my head...       ?   \n",
       "2721  @HonestAndFrank but  @BillCosby drugged and ra...       ?   \n",
       "1627  #soywax limited edition horror candles going u...       ?   \n",
       "310   All the young people are so bitter about how t...       ?   \n",
       "179   @daynutrition @sliqnicq @nytimes I don't liste...       ?   \n",
       "1975  Nothing lovelier than your great mate sending ...       ?   \n",
       "\n",
       "     RuleBasedPrediction MLPrediction CombinedPrediction  \n",
       "282                other        anger              anger  \n",
       "1559               other        anger              anger  \n",
       "1324               other      sadness            sadness  \n",
       "2433                 joy          joy                joy  \n",
       "2811               other      sadness            sadness  \n",
       "2721               other      sadness            sadness  \n",
       "1627                fear         fear               fear  \n",
       "310                other        anger              anger  \n",
       "179                anger        anger              anger  \n",
       "1975                 joy          joy                joy  "
      ]
     },
     "execution_count": 133,
     "metadata": {},
     "output_type": "execute_result"
    }
   ],
   "source": [
    "testing_data.sample(10)"
   ]
  }
 ],
 "metadata": {
  "kernelspec": {
   "display_name": "Python 3",
   "language": "python",
   "name": "python3"
  },
  "language_info": {
   "codemirror_mode": {
    "name": "ipython",
    "version": 3
   },
   "file_extension": ".py",
   "mimetype": "text/x-python",
   "name": "python",
   "nbconvert_exporter": "python",
   "pygments_lexer": "ipython3",
   "version": "3.11.7"
  }
 },
 "nbformat": 4,
 "nbformat_minor": 2
}
